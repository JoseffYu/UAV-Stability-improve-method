{
 "cells": [
  {
   "cell_type": "code",
   "execution_count": null,
   "id": "a6ad6c79",
   "metadata": {},
   "outputs": [],
   "source": [
    "from DDPG_importer import DDPG, ReplayBuffer\n",
    "import gymnasium as gym\n",
    "import numpy as np\n",
    "import matplotlib.pyplot as plt\n",
    "from matplotlib.animation import FuncAnimation"
   ]
  },
  {
   "cell_type": "code",
   "execution_count": 1,
   "id": "3305b63c",
   "metadata": {},
   "outputs": [
    {
     "ename": "NameError",
     "evalue": "name 'gym' is not defined",
     "output_type": "error",
     "traceback": [
      "\u001b[0;31m---------------------------------------------------------------------------\u001b[0m",
      "\u001b[0;31mNameError\u001b[0m                                 Traceback (most recent call last)",
      "Cell \u001b[0;32mIn[1], line 2\u001b[0m\n\u001b[1;32m      1\u001b[0m \u001b[38;5;66;03m# Main body\u001b[39;00m\n\u001b[0;32m----> 2\u001b[0m env \u001b[38;5;241m=\u001b[39m \u001b[43mgym\u001b[49m\u001b[38;5;241m.\u001b[39mmake(\u001b[38;5;124m\"\u001b[39m\u001b[38;5;124mMountainCarContinuous-v0\u001b[39m\u001b[38;5;124m\"\u001b[39m)\n\u001b[1;32m      4\u001b[0m state_size \u001b[38;5;241m=\u001b[39m env\u001b[38;5;241m.\u001b[39mobservation_space\u001b[38;5;241m.\u001b[39mshape[\u001b[38;5;241m0\u001b[39m]\n\u001b[1;32m      5\u001b[0m action_size \u001b[38;5;241m=\u001b[39m env\u001b[38;5;241m.\u001b[39maction_space\u001b[38;5;241m.\u001b[39mshape[\u001b[38;5;241m0\u001b[39m]\n",
      "\u001b[0;31mNameError\u001b[0m: name 'gym' is not defined"
     ]
    }
   ],
   "source": [
    "# Main body\n",
    "env = gym.make(\"MountainCarContinuous-v0\")\n",
    "\n",
    "state_size = env.observation_space.shape[0]\n",
    "action_size = env.action_space.shape[0]\n",
    "max_action = env.action_space.high[0]\n",
    "device = 'cpu'\n",
    "\n",
    "print(\"State size: \", type(state_size))\n",
    "print(\"Action size: \", type(action_size))\n",
    "print(\"Max action: \", type(max_action))\n",
    "\n",
    "agent = DDPG(states_size=state_size,\n",
    "             actions_size=action_size,\n",
    "             max_action=max_action,\n",
    "             batch_size=128,\n",
    "             sigma=0.001,\n",
    "             actor_lr=0.95,\n",
    "             critic_lr=0.95,\n",
    "             tau=0.001,\n",
    "             gamma=0.001,\n",
    "             device=device)  # Ensure the device is specified correctly\n",
    "replay = ReplayBuffer(capacity=100000)\n",
    "\n",
    "all_returns = []\n",
    "mean_returns = []\n",
    "\n",
    "# 设置绘图\n",
    "fig, ax = plt.subplots()\n",
    "line, = ax.plot([], [], lw=2)\n",
    "ax.set_xlim(0, 1000)\n",
    "ax.set_ylim(-200, 0)\n",
    "ax.set_xlabel('Episode')\n",
    "ax.set_ylabel('Return')\n",
    "\n",
    "def init():\n",
    "    line.set_data([], [])\n",
    "    return line,\n",
    "\n",
    "def update(frame):\n",
    "    line.set_data(range(len(all_returns)), all_returns)\n",
    "    return line,\n",
    "\n",
    "ani = FuncAnimation(fig, update, frames=range(1000), init_func=init, blit=True)\n",
    "\n",
    "for episode in range(300):\n",
    "    state = env.reset()[0]\n",
    "    done = False\n",
    "    episode_return = 0\n",
    "    while not done:\n",
    "        action = agent.select_action(state)\n",
    "        print(env.step(action))\n",
    "        next_state, reward, done, _ = env.step(action)[0:4]\n",
    "        replay.push(state, action, reward, next_state, done)\n",
    "        if replay.size() > 1000:\n",
    "            sample_replay = replay.sample(agent.batch_size)\n",
    "            agent.train(replay)\n",
    "        state = next_state\n",
    "        episode_return += reward\n",
    "    all_returns.append(episode_return)\n",
    "    mean_return = np.mean(all_returns)\n",
    "    mean_returns.append(mean_return)\n",
    "    print(\"Episode: {}, Return: {}, Mean Return: {}\".format(episode, episode_return, mean_return))\n",
    "\n",
    "env.close()\n",
    "\n",
    "# 显示动画\n",
    "plt.show()\n"
   ]
  }
 ],
 "metadata": {
  "kernelspec": {
   "display_name": "Python 3",
   "language": "python",
   "name": "python3"
  },
  "language_info": {
   "codemirror_mode": {
    "name": "ipython",
    "version": 3
   },
   "file_extension": ".py",
   "mimetype": "text/x-python",
   "name": "python",
   "nbconvert_exporter": "python",
   "pygments_lexer": "ipython3",
   "version": "3.9.18"
  }
 },
 "nbformat": 4,
 "nbformat_minor": 5
}
