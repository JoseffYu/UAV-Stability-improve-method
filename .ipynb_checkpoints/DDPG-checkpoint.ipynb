{
 "cells": [
  {
   "cell_type": "code",
   "execution_count": 1,
   "id": "bcf3874d",
   "metadata": {},
   "outputs": [],
   "source": [
    "import torch\n",
    "from torch import nn\n",
    "from torch.nn import functional as F\n",
    "import numpy as np\n",
    "import collections\n",
    "import random"
   ]
  },
  {
   "cell_type": "code",
   "execution_count": null,
   "id": "419c9292",
   "metadata": {},
   "outputs": [],
   "source": [
    "# Actor Net\n",
    "class Actor(nn.Module):\n",
    "    \n",
    "    def __init__(self, n_states, n_hiddens, n_actions, max_action):\n",
    "        super(PolicyNet, self).__init__()\n",
    "        # The max value for action\n",
    "        self.max_action_value = max_action\n",
    "        self.fc1 = nn.Linear(n_states, n_hiddens)\n",
    "        self.fc2 = nn.Linear(n_hiddens, 0.5*n_actions)\n",
    "        self.fc3 = nn.Linear(0.5*n_hiddens, n_actions)\n",
    "        \n",
    "    def forward(self, x):\n",
    "        x = self.fc1(x)\n",
    "        x = F.relu(x)\n",
    "        x = self.fc2(x)\n",
    "        x = F.relu(x)\n",
    "        x = self.fc3(x)\n",
    "        x = torch.tanh(x)  \n",
    "        x = x * self.max_action_value  # 缩放到 [-max_action, max_action]\n",
    "        return x"
   ]
  },
  {
   "cell_type": "code",
   "execution_count": null,
   "id": "54a6c39d",
   "metadata": {},
   "outputs": [],
   "source": [
    "# Critic Net\n",
    "class Critic(nn.Module):\n",
    "    def __init__(self, n_states, n_hiddens, n_actions):\n",
    "        super(QValueNet, self).__init__()\n",
    "        # \n",
    "        self.fc1 = nn.Linear(n_states + n_actions, n_hiddens)\n",
    "        self.fc2 = nn.Linear(n_hiddens, n_hiddens)\n",
    "        self.fc3 = nn.Linear(n_hiddens, 1)\n",
    "\n",
    "    def forward(self, x, a):\n",
    "        # Combind states and actions togethet\n",
    "        cat = torch.cat([x, a], dim=1)\n",
    "        x = self.fc1(cat)\n",
    "        x = F.relu(x)\n",
    "        x = self.fc2(x)\n",
    "        x = F.relu(x)\n",
    "        x = self.fc3(x)\n",
    "        return x"
   ]
  },
  {
   "cell_type": "code",
   "execution_count": null,
   "id": "62e6b7b1",
   "metadata": {},
   "outputs": [],
   "source": [
    "# DDPG main body\n",
    "class DDPG():\n",
    "    def __init__(self, states_size, actions_size, max_action, sigma, actor_lr, critic_lr, tau, gamma):\n",
    "        self.states_size = state_size\n",
    "        "
   ]
  }
 ],
 "metadata": {
  "kernelspec": {
   "display_name": "Python [conda env:anaconda3-AdaptiveTrafficLight]",
   "language": "python",
   "name": "conda-env-anaconda3-AdaptiveTrafficLight-py"
  },
  "language_info": {
   "codemirror_mode": {
    "name": "ipython",
    "version": 3
   },
   "file_extension": ".py",
   "mimetype": "text/x-python",
   "name": "python",
   "nbconvert_exporter": "python",
   "pygments_lexer": "ipython3",
   "version": "3.9.18"
  }
 },
 "nbformat": 4,
 "nbformat_minor": 5
}
